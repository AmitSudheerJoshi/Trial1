{
 "cells": [
  {
   "cell_type": "code",
   "execution_count": 1,
   "id": "84afdd34",
   "metadata": {},
   "outputs": [],
   "source": [
    "# Practice Session on plotting using jupyter notebook"
   ]
  },
  {
   "cell_type": "code",
   "execution_count": 8,
   "id": "159deeea",
   "metadata": {},
   "outputs": [
    {
     "name": "stdout",
     "output_type": "stream",
     "text": [
      "Using matplotlib backend: Qt5Agg\n",
      "Populating the interactive namespace from numpy and matplotlib\n"
     ]
    }
   ],
   "source": [
    "import pandas as pd\n",
    "import numpy as np\n",
    "import matplotlib.pyplot as plt\n",
    "%pylab"
   ]
  },
  {
   "cell_type": "code",
   "execution_count": 9,
   "id": "068ac4c1",
   "metadata": {},
   "outputs": [],
   "source": [
    "x=linspace(-2*pi,2*pi,100)"
   ]
  },
  {
   "cell_type": "code",
   "execution_count": 10,
   "id": "91f8a3de",
   "metadata": {},
   "outputs": [],
   "source": [
    "y=2*x"
   ]
  },
  {
   "cell_type": "code",
   "execution_count": 11,
   "id": "c80a013f",
   "metadata": {},
   "outputs": [
    {
     "data": {
      "text/plain": [
       "Text(0.5, 1.0, 'figure 1')"
      ]
     },
     "execution_count": 11,
     "metadata": {},
     "output_type": "execute_result"
    }
   ],
   "source": [
    "figure(1)\n",
    "plot(x,cos(x),'g--')\n",
    "plot(x,y,'b',linewidth=2)\n",
    "title(\"figure 1\")"
   ]
  },
  {
   "cell_type": "code",
   "execution_count": 13,
   "id": "5c823fd0",
   "metadata": {},
   "outputs": [
    {
     "data": {
      "text/plain": [
       "Text(0.39, 0.85, 'intersection')"
      ]
     },
     "execution_count": 13,
     "metadata": {},
     "output_type": "execute_result"
    }
   ],
   "source": [
    "annotate(\"intersection\",xy=(0.39,0.85))"
   ]
  },
  {
   "cell_type": "code",
   "execution_count": 14,
   "id": "0a211930",
   "metadata": {},
   "outputs": [
    {
     "data": {
      "text/plain": [
       "Text(35.347222222222214, 0.5, '$y$')"
      ]
     },
     "execution_count": 14,
     "metadata": {},
     "output_type": "execute_result"
    }
   ],
   "source": [
    "xlabel(\"$x$\")\n",
    "ylabel(\"$y$\")"
   ]
  },
  {
   "cell_type": "code",
   "execution_count": 17,
   "id": "27d92b03",
   "metadata": {},
   "outputs": [
    {
     "data": {
      "text/plain": [
       "(-3.0, 3.0)"
      ]
     },
     "execution_count": 17,
     "metadata": {},
     "output_type": "execute_result"
    }
   ],
   "source": [
    "xlim()"
   ]
  },
  {
   "cell_type": "code",
   "execution_count": 18,
   "id": "5861a75a",
   "metadata": {},
   "outputs": [
    {
     "data": {
      "text/plain": [
       "(-6.9, 6.9)"
      ]
     },
     "execution_count": 18,
     "metadata": {},
     "output_type": "execute_result"
    }
   ],
   "source": [
    "xlim(-6.9,6.9)"
   ]
  },
  {
   "cell_type": "code",
   "execution_count": 19,
   "id": "2a0fe367",
   "metadata": {},
   "outputs": [
    {
     "data": {
      "text/plain": [
       "(-13.82300767579509, 13.82300767579509)"
      ]
     },
     "execution_count": 19,
     "metadata": {},
     "output_type": "execute_result"
    }
   ],
   "source": [
    "ylim()"
   ]
  },
  {
   "cell_type": "code",
   "execution_count": 17,
   "id": "00f47487",
   "metadata": {},
   "outputs": [
    {
     "data": {
      "text/plain": [
       "(-5.0, 5.0)"
      ]
     },
     "execution_count": 17,
     "metadata": {},
     "output_type": "execute_result"
    }
   ],
   "source": [
    "ylim(-5,5)"
   ]
  },
  {
   "cell_type": "code",
   "execution_count": 16,
   "id": "9489b314",
   "metadata": {},
   "outputs": [
    {
     "data": {
      "text/plain": [
       "<matplotlib.legend.Legend at 0x2b667e4cd90>"
      ]
     },
     "execution_count": 16,
     "metadata": {},
     "output_type": "execute_result"
    }
   ],
   "source": [
    "legend(['x','y'])"
   ]
  },
  {
   "cell_type": "code",
   "execution_count": 12,
   "id": "6a4014bd",
   "metadata": {},
   "outputs": [
    {
     "data": {
      "text/plain": [
       "Text(0.5, 1.0, 'figure 2')"
      ]
     },
     "execution_count": 12,
     "metadata": {},
     "output_type": "execute_result"
    }
   ],
   "source": [
    "figure(2)\n",
    "plot(x,sin(x),'y')\n",
    "plot(x,y,'g--',linewidth=2)\n",
    "ylim()\n",
    "title(\"figure 2\")"
   ]
  },
  {
   "cell_type": "code",
   "execution_count": 13,
   "id": "df79925b",
   "metadata": {},
   "outputs": [
    {
     "data": {
      "text/plain": [
       "(-5.0, 5.0)"
      ]
     },
     "execution_count": 13,
     "metadata": {},
     "output_type": "execute_result"
    }
   ],
   "source": [
    "ylim(-5,5)"
   ]
  },
  {
   "cell_type": "code",
   "execution_count": 15,
   "id": "5acd6d58",
   "metadata": {},
   "outputs": [
    {
     "data": {
      "text/plain": [
       "Text(44.222222222222214, 0.5, '$y$')"
      ]
     },
     "execution_count": 15,
     "metadata": {},
     "output_type": "execute_result"
    }
   ],
   "source": [
    "xlabel(\"$x$\")\n",
    "ylabel(\"$y$\")"
   ]
  },
  {
   "cell_type": "code",
   "execution_count": 14,
   "id": "b0b4e70c",
   "metadata": {},
   "outputs": [
    {
     "data": {
      "text/plain": [
       "<matplotlib.legend.Legend at 0x2b667b0c9d0>"
      ]
     },
     "execution_count": 14,
     "metadata": {},
     "output_type": "execute_result"
    }
   ],
   "source": [
    "legend(['x','y'])"
   ]
  },
  {
   "cell_type": "code",
   "execution_count": null,
   "id": "d8fd54f1",
   "metadata": {},
   "outputs": [],
   "source": []
  }
 ],
 "metadata": {
  "kernelspec": {
   "display_name": "Python 3 (ipykernel)",
   "language": "python",
   "name": "python3"
  },
  "language_info": {
   "codemirror_mode": {
    "name": "ipython",
    "version": 3
   },
   "file_extension": ".py",
   "mimetype": "text/x-python",
   "name": "python",
   "nbconvert_exporter": "python",
   "pygments_lexer": "ipython3",
   "version": "3.9.7"
  }
 },
 "nbformat": 4,
 "nbformat_minor": 5
}
