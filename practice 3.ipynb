{
 "cells": [
  {
   "cell_type": "code",
   "execution_count": 1,
   "id": "ccbfd4a8",
   "metadata": {},
   "outputs": [
    {
     "name": "stdout",
     "output_type": "stream",
     "text": [
      "Using matplotlib backend: Qt5Agg\n",
      "Populating the interactive namespace from numpy and matplotlib\n"
     ]
    }
   ],
   "source": [
    "import pandas as pd\n",
    "import numpy as np\n",
    "import matplotlib.pyplot as plt\n",
    "%pylab"
   ]
  },
  {
   "cell_type": "code",
   "execution_count": 6,
   "id": "cfdd6b32",
   "metadata": {},
   "outputs": [],
   "source": [
    "x=linspace(0,50,500)\n",
    "y=linspace(0,5,100)"
   ]
  },
  {
   "cell_type": "code",
   "execution_count": 4,
   "id": "d16faa03",
   "metadata": {},
   "outputs": [
    {
     "data": {
      "text/plain": [
       "Text(0, 0.5, '$y$')"
      ]
     },
     "execution_count": 4,
     "metadata": {},
     "output_type": "execute_result"
    }
   ],
   "source": [
    "figure(1)\n",
    "plot(x,cos(x),'r')\n",
    "title(\"cosine curve\")\n",
    "xlabel(\"$x$\")\n",
    "ylabel(\"$y$\")"
   ]
  },
  {
   "cell_type": "code",
   "execution_count": 5,
   "id": "cb04ffb4",
   "metadata": {},
   "outputs": [],
   "source": [
    "clf()"
   ]
  },
  {
   "cell_type": "code",
   "execution_count": 8,
   "id": "0acbb71a",
   "metadata": {},
   "outputs": [],
   "source": [
    "clf()"
   ]
  },
  {
   "cell_type": "code",
   "execution_count": 11,
   "id": "d44296ec",
   "metadata": {},
   "outputs": [],
   "source": [
    "v=linspace(21,100,500)\n",
    "t=linspace(200,200,500)"
   ]
  },
  {
   "cell_type": "code",
   "execution_count": 19,
   "id": "68968494",
   "metadata": {},
   "outputs": [
    {
     "data": {
      "text/plain": [
       "Text(0.5, 1.0, 'Pressure vs Temp.')"
      ]
     },
     "execution_count": 19,
     "metadata": {},
     "output_type": "execute_result"
    }
   ],
   "source": [
    "figure(1)\n",
    "subplot(2,1,1)\n",
    "plot(v,2/v,'b')\n",
    "title(\"Pressure vs Volume\")\n",
    "xlabel(\"$Volume$\")\n",
    "ylabel(\"$Pressure$\")\n",
    "subplot(2,1,2)\n",
    "plot(t,2/v,'g--')\n",
    "xlabel(\"$temperature$\")\n",
    "ylabel(\"$Pressure$\")\n",
    "title(\"Pressure vs Temp.\")"
   ]
  },
  {
   "cell_type": "code",
   "execution_count": null,
   "id": "75736efd",
   "metadata": {},
   "outputs": [],
   "source": []
  }
 ],
 "metadata": {
  "kernelspec": {
   "display_name": "Python 3 (ipykernel)",
   "language": "python",
   "name": "python3"
  },
  "language_info": {
   "codemirror_mode": {
    "name": "ipython",
    "version": 3
   },
   "file_extension": ".py",
   "mimetype": "text/x-python",
   "name": "python",
   "nbconvert_exporter": "python",
   "pygments_lexer": "ipython3",
   "version": "3.9.7"
  }
 },
 "nbformat": 4,
 "nbformat_minor": 5
}
